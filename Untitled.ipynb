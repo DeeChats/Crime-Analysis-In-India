{
 "cells": [
  {
   "cell_type": "code",
   "execution_count": null,
   "id": "f11f76a2",
   "metadata": {},
   "outputs": [],
   "source": [
    "#DATASET 1"
   ]
  },
  {
   "cell_type": "code",
   "execution_count": null,
   "id": "b9ae39d0",
   "metadata": {},
   "outputs": [],
   "source": [
    "#Importing Libraries\n",
    "\n",
    "import numpy as np \n",
    "import pandas as pd \n",
    "import seaborn as sns\n",
    "import matplotlib.pyplot as plt\n",
    "import geopandas as gpd\n",
    "\n",
    "!pip install plotly\n",
    "import plotly.express as px\n",
    "import plotly.graph_objects as go\n",
    "\n",
    "!pip install wordcloud\n",
    "from PIL import Image\n",
    "from wordcloud import WordCloud, STOPWORDS, ImageColorGenerator"
   ]
  },
  {
   "cell_type": "code",
   "execution_count": null,
   "id": "2eeb491c",
   "metadata": {},
   "outputs": [],
   "source": [
    "#Reading the dataset\n",
    "\n",
    "data=pd.read_csv(r\"C:\\Users\\deeks\\Desktop\\CAPSTONE PROJECT\\Crime Analysis.csv\")\n",
    "data"
   ]
  },
  {
   "cell_type": "code",
   "execution_count": null,
   "id": "6da311ea",
   "metadata": {},
   "outputs": [],
   "source": [
    "#Columns of the dataset\n",
    "\n",
    "data.columns"
   ]
  },
  {
   "cell_type": "code",
   "execution_count": null,
   "id": "c883eeda",
   "metadata": {},
   "outputs": [],
   "source": [
    "#Data Types of the dataset\n",
    "\n",
    "data.dtypes"
   ]
  },
  {
   "cell_type": "code",
   "execution_count": null,
   "id": "ed6237e4",
   "metadata": {},
   "outputs": [],
   "source": [
    "#No Null Values\n",
    "\n",
    "data.isnull().sum()"
   ]
  },
  {
   "cell_type": "code",
   "execution_count": null,
   "id": "ceebf582",
   "metadata": {},
   "outputs": [],
   "source": [
    "#Information of the dataset\n",
    "\n",
    "data.info()"
   ]
  },
  {
   "cell_type": "code",
   "execution_count": null,
   "id": "4f7476de",
   "metadata": {},
   "outputs": [],
   "source": [
    "#Statistical Analysis\n",
    "\n",
    "data.describe()"
   ]
  },
  {
   "cell_type": "code",
   "execution_count": null,
   "id": "e72ccbd3",
   "metadata": {},
   "outputs": [],
   "source": [
    "#Rows and Columns in the dataset\n",
    "\n",
    "data.shape"
   ]
  },
  {
   "cell_type": "code",
   "execution_count": null,
   "id": "07bf33ad",
   "metadata": {},
   "outputs": [],
   "source": [
    "#Dataframes for States, Union Territories and Metropolitan Cities\n",
    "\n",
    "data1=data[['Year','State/UT/City','Region_Type','Total Crimes']].copy()\n",
    "states=data1[data1['Region_Type']=='State']\n",
    "UTs=data1[data1['Region_Type']=='UT']\n",
    "cities=data1[data1['Region_Type']=='City']"
   ]
  },
  {
   "cell_type": "code",
   "execution_count": null,
   "id": "efbae657",
   "metadata": {},
   "outputs": [],
   "source": [
    "#Factors\n",
    "\n",
    "text = \" \".join(fact for fact in data.Factors)\n",
    "word_cloud1 = WordCloud(collocations = False, background_color = 'white', width = 2048, height = 1080).generate(text)\n",
    "word_cloud1.to_file('images.png')\n",
    "plt.imshow(word_cloud1, interpolation='bilinear')\n",
    "plt.axis(\"off\")\n",
    "plt.show()"
   ]
  },
  {
   "cell_type": "code",
   "execution_count": null,
   "id": "af144d12",
   "metadata": {},
   "outputs": [],
   "source": [
    "#Crime every Year\n",
    "\n",
    "sns.scatterplot(x = data['Year'], y = data['Total Crimes'], color=\"green\")\n",
    "plt.xlabel(\"Year\")\n",
    "plt.ylabel(\"Total Crimes\")"
   ]
  },
  {
   "cell_type": "code",
   "execution_count": null,
   "id": "05552daf",
   "metadata": {},
   "outputs": [],
   "source": [
    "#Crimes in States over the years\n",
    "\n",
    "fig=px.bar(states,x='State/UT/City',y='Total Crimes',color='Year',title='Crimes in States over the years')\n",
    "fig.show()"
   ]
  },
  {
   "cell_type": "code",
   "execution_count": null,
   "id": "29ad2b02",
   "metadata": {},
   "outputs": [],
   "source": [
    "#States with Highest Crime Rate\n",
    "\n",
    "fig = px.pie(states, values='Total Crimes', names='State/UT/City',\n",
    "             title='States with Highest Crime Rate',\n",
    "             hover_data=['Total Crimes'],labels={'State':'States with Highest Crime Rate'})\n",
    "fig.update_traces(textposition='inside', textinfo='percent+label')\n",
    "fig.show()"
   ]
  },
  {
   "cell_type": "code",
   "execution_count": null,
   "id": "06852f88",
   "metadata": {},
   "outputs": [],
   "source": [
    "#Crimes in Union Territories over the years\n",
    "\n",
    "fig=px.bar(UTs,x='State/UT/City',y='Total Crimes',color='Year',title='Crimes in Union Territories over the years')\n",
    "fig.show()"
   ]
  },
  {
   "cell_type": "code",
   "execution_count": null,
   "id": "1c6e3a2e",
   "metadata": {},
   "outputs": [],
   "source": [
    "#Union Territories with Highest Crime Rate\n",
    "\n",
    "fig = px.pie(UTs, values='Total Crimes', names='State/UT/City',\n",
    "             title='Union Territories with Highest Crime Rate',\n",
    "             hover_data=['Total Crimes'],labels={'State':'Union Territories with Highest Crime Rate'})\n",
    "fig.update_traces(textposition='inside', textinfo='percent+label')\n",
    "fig.show()"
   ]
  },
  {
   "cell_type": "code",
   "execution_count": null,
   "id": "51250706",
   "metadata": {},
   "outputs": [],
   "source": [
    "#Crimes in Metropolitan Cities over the years\n",
    "\n",
    "fig=px.bar(cities,x='State/UT/City',y='Total Crimes',color='Year',title='Crimes in Metropolitan Cities over the years')\n",
    "fig.show()"
   ]
  },
  {
   "cell_type": "code",
   "execution_count": null,
   "id": "1fb2f8a7",
   "metadata": {},
   "outputs": [],
   "source": [
    "#Metropolitan Cities with Highest Crime Rate\n",
    "\n",
    "fig = px.pie(cities, values='Total Crimes', names='State/UT/City',\n",
    "             title='Metropolitan Cities with Highest Crime Rate',\n",
    "             hover_data=['Total Crimes'],labels={'State':'Metropolitan Cities with Highest Crime Rate'})\n",
    "fig.update_traces(textposition='inside', textinfo='percent+label')\n",
    "fig.show()"
   ]
  },
  {
   "cell_type": "code",
   "execution_count": null,
   "id": "d21feffa",
   "metadata": {},
   "outputs": [],
   "source": [
    "#Gender wise Cases Registered \n",
    "\n",
    "data.groupby(\"Year\")[['Arrested_Male','Arrested_Female','Convicted_Male','Convicted_Female','Discharged_Male','Discharged_Female','Acquitted_Male','Acquitted_Female']].max().plot(title='Cases Registered',kind='bar',figsize=(10,10))"
   ]
  },
  {
   "cell_type": "code",
   "execution_count": null,
   "id": "700ba935",
   "metadata": {},
   "outputs": [],
   "source": [
    "#Gender wise Crimes committed\n",
    "\n",
    "labels = ['Male','Female']\n",
    "values = [9820801,1646766]\n",
    "fig = go.Figure(data=[go.Pie(labels=labels, values=values, hole=.6)])\n",
    "fig.show()"
   ]
  },
  {
   "cell_type": "code",
   "execution_count": null,
   "id": "c88507e4",
   "metadata": {},
   "outputs": [],
   "source": [
    "#Crimes over the years\n",
    "\n",
    "data.groupby(\"Year\")[['Murder ','Culpable_Homicide_not_amounting_to_Murder ','Infanticide ','Foeticide ','Dowry_Deaths ','Kidnapping_and_Abduction ','Rape ','Rioting ','Robbery ','Dacoity ','Arson ','Breach_of_Trust ','Counterfeiting ']].max().plot(title='Cases Registered',kind='bar',figsize=(10,10))"
   ]
  },
  {
   "cell_type": "code",
   "execution_count": null,
   "id": "ac6f4f05",
   "metadata": {},
   "outputs": [],
   "source": [
    "#DATASET 2"
   ]
  },
  {
   "cell_type": "code",
   "execution_count": null,
   "id": "de9507c0",
   "metadata": {},
   "outputs": [],
   "source": [
    "#Importing Libraries\n",
    "\n",
    "import numpy as np \n",
    "import pandas as pd \n",
    "import seaborn as sns\n",
    "import matplotlib.pyplot as plt\n",
    "import plotly.express as px\n",
    "import plotly.graph_objects as go\n",
    "import geopandas as gpd\n",
    "\n",
    "!pip install wordcloud\n",
    "from PIL import Image\n",
    "from wordcloud import WordCloud, STOPWORDS, ImageColorGenerator\n",
    "\n",
    "from sklearn.model_selection import train_test_split\n",
    "\n",
    "from sklearn.linear_model import LinearRegression\n",
    "from sklearn.ensemble import RandomForestRegressor\n",
    "from sklearn.neighbors import KNeighborsRegressor\n",
    "from sklearn.tree import DecisionTreeRegressor\n",
    "from sklearn.ensemble import GradientBoostingRegressor\n",
    "\n",
    "from sklearn.metrics import r2_score,mean_squared_error,mean_absolute_error\n",
    "\n",
    "\n",
    "from time import time\n",
    "from math import sqrt\n",
    "from sklearn import metrics"
   ]
  },
  {
   "cell_type": "code",
   "execution_count": null,
   "id": "1b3d300a",
   "metadata": {},
   "outputs": [],
   "source": [
    "#Reading the dataset\n",
    "\n",
    "data=pd.read_csv(r\"C:\\Users\\deeks\\Desktop\\CAPSTONE PROJECT\\Kidnap.csv\")\n",
    "data"
   ]
  },
  {
   "cell_type": "code",
   "execution_count": null,
   "id": "deaaedb5",
   "metadata": {},
   "outputs": [],
   "source": [
    "#Columns of the dataset\n",
    "\n",
    "data.columns"
   ]
  },
  {
   "cell_type": "code",
   "execution_count": null,
   "id": "c3de8857",
   "metadata": {},
   "outputs": [],
   "source": [
    "#Data Types of the dataset\n",
    "\n",
    "data.dtypes"
   ]
  },
  {
   "cell_type": "code",
   "execution_count": null,
   "id": "9b9f82bb",
   "metadata": {},
   "outputs": [],
   "source": [
    "#No Null Values\n",
    "\n",
    "data.isnull().sum()"
   ]
  },
  {
   "cell_type": "code",
   "execution_count": null,
   "id": "c873c955",
   "metadata": {},
   "outputs": [],
   "source": [
    "#Information of the dataset\n",
    "\n",
    "data.info()"
   ]
  },
  {
   "cell_type": "code",
   "execution_count": null,
   "id": "9fc57ce5",
   "metadata": {},
   "outputs": [],
   "source": [
    "#Statistical Analysis\n",
    "\n",
    "data.describe()"
   ]
  },
  {
   "cell_type": "code",
   "execution_count": null,
   "id": "8169826e",
   "metadata": {},
   "outputs": [],
   "source": [
    "#Rows and Columns in the dataset\n",
    "\n",
    "data.shape"
   ]
  },
  {
   "cell_type": "code",
   "execution_count": null,
   "id": "87a0ece6",
   "metadata": {},
   "outputs": [],
   "source": [
    "#Factors\n",
    "\n",
    "text = \" \".join(fact for fact in data.Factors)\n",
    "word_cloud1 = WordCloud(collocations = False, background_color = 'white', width = 2048, height = 1080).generate(text)\n",
    "word_cloud1.to_file('kid.png')\n",
    "plt.imshow(word_cloud1, interpolation='bilinear')\n",
    "plt.axis(\"off\")\n",
    "plt.show()"
   ]
  },
  {
   "cell_type": "code",
   "execution_count": null,
   "id": "c2f54c3c",
   "metadata": {},
   "outputs": [],
   "source": [
    "#Dataframes for States and Union Territories\n",
    "\n",
    "data1=data[['Year','State/UT','Region_Type','KD_Total_Cases']].copy()\n",
    "states=data1[data1['Region_Type']=='State']\n",
    "UTs=data1[data1['Region_Type']=='UT']"
   ]
  },
  {
   "cell_type": "code",
   "execution_count": null,
   "id": "b5484f5a",
   "metadata": {},
   "outputs": [],
   "source": [
    "#Rate of Kidnapping and Abduction\n",
    "\n",
    "plt.figure(figsize=(10,7))\n",
    "sns.lineplot(x=data['Year'],y=data['Rate_of_kanda']);\n",
    "plt.title(\"Rate of Kidnapping and Abduction\");\n",
    "plt.xlabel(\"Year\");\n",
    "plt.ylabel(\"Rate\");"
   ]
  },
  {
   "cell_type": "code",
   "execution_count": null,
   "id": "33ff2788",
   "metadata": {},
   "outputs": [],
   "source": [
    "#Mid Year Projection of Kidnapping and Abduction\n",
    "\n",
    "sns.barplot(y='Mid_Year_Projection',x='Year',data=data);\n",
    "plt.title(\"Mid Year Projection of Kidnapping and Abduction\");\n",
    "plt.xlabel(\"Year\");\n",
    "plt.ylabel(\"No. of Crimes\");"
   ]
  },
  {
   "cell_type": "code",
   "execution_count": null,
   "id": "0dc5aa2c",
   "metadata": {},
   "outputs": [],
   "source": [
    "#Kidnapping and Abduction over the years\n",
    "\n",
    "sns.scatterplot(x = data['Year'], y = data['KD_Total_Cases'], color=\"green\")\n",
    "plt.xlabel(\"Year\")\n",
    "plt.ylabel(\"Total Crimes\")"
   ]
  },
  {
   "cell_type": "code",
   "execution_count": null,
   "id": "f5d3a54c",
   "metadata": {},
   "outputs": [],
   "source": [
    "#Total Cases of Kidnapping and Abduction in India during 2016-2021\n",
    "\n",
    "kid=data.groupby('State/UT/City')['Kidnapping_and_Abduction '].sum().to_frame()\n",
    "shp_gdf = gpd.read_file('C:/Users/deeks/Desktop/CAPSTONE PROJECT/archive/states_india.geojson')\n",
    "shp_gdf.set_index('st_nm', inplace = True)\n",
    "shp_gdf.rename(index={'Andaman & Nicobar Island':'A & N Islands', 'Arunanchal Pradesh': 'Arunachal Pradesh',\n",
    "                      'Dadara & Nagar Havelli':'D & N Haveli', 'NCT of Delhi':'Delhi (Ut)'}, inplace=True)\n",
    "merged = shp_gdf.join(kid.iloc[:, 0])\n",
    "merged.at['Telangana', 'Kidnapping_and_Abduction ']=merged.at['Andhra Pradesh', 'Kidnapping_and_Abduction ']\n",
    "fig, ax = plt.subplots(1, figsize=(15, 15))\n",
    "ax.axis('off')\n",
    "ax.set_title('Total Cases of Kidnapping and Abduction in India during 2016-2021',\n",
    "             fontdict={'fontsize': '20', 'fontweight' : '8'})\n",
    "fig=merged.plot(column='Kidnapping_and_Abduction ', cmap='PuBu', linewidth=0.5, ax=ax, edgecolor='0.2',legend=True)\n",
    "plt.show()\n",
    "plt.savefig(\"Kidnapping.png\")"
   ]
  },
  {
   "cell_type": "code",
   "execution_count": null,
   "id": "70ef30d1",
   "metadata": {},
   "outputs": [],
   "source": [
    "#Kidnapping and Abduction\n",
    "\n",
    "def line_graphs():\n",
    "    fig = px.line(data,x=\"Year\",y=\"Kidnapping_and_Abduction \",color=\"State/UT/City\")\n",
    "    fig.show()\n",
    "line_graphs()"
   ]
  },
  {
   "cell_type": "code",
   "execution_count": null,
   "id": "6775bd34",
   "metadata": {},
   "outputs": [],
   "source": [
    "#Kidnapping and Abduction cases in States over the years\n",
    "\n",
    "fig=px.bar(states,x='State/UT',y='KD_Total_Cases',color='Year',title='Kidnapping and Abduction cases in States over the years')\n",
    "fig.show()"
   ]
  },
  {
   "cell_type": "code",
   "execution_count": null,
   "id": "ba0ff6c8",
   "metadata": {},
   "outputs": [],
   "source": [
    "#States with Highest Kidnapping and Abduction Rate\n",
    "\n",
    "fig = px.pie(states, values='KD_Total_Cases', names='State/UT',\n",
    "             title='States with Highest Kidnapping and Abduction Rate',\n",
    "             hover_data=['KD_Total_Cases'],labels={'State':'States with Highest Kidnapping and Abduction Rate'})\n",
    "fig.update_traces(textposition='inside', textinfo='percent+label')\n",
    "fig.show()"
   ]
  },
  {
   "cell_type": "code",
   "execution_count": null,
   "id": "a645eb66",
   "metadata": {},
   "outputs": [],
   "source": [
    "#Kidnapping and Abduction cases in Union Territories over the years\n",
    "\n",
    "fig=px.bar(UTs,x='State/UT',y='KD_Total_Cases',color='Year',title='Kidnapping and Abduction cases in Union Territories over the years')\n",
    "fig.show()"
   ]
  },
  {
   "cell_type": "code",
   "execution_count": null,
   "id": "b00e0e75",
   "metadata": {},
   "outputs": [],
   "source": [
    "#Union Territories with Highest Kidnapping and Abduction Rate\n",
    "\n",
    "fig = px.pie(UTs, values='KD_Total_Cases', names='State/UT',\n",
    "             title='Union Territories with Highest Kidnapping and Abduction Rate',\n",
    "             hover_data=['KD_Total_Cases'],labels={'State':'Union Territories with Highest Kidnapping and Abduction Rate'})\n",
    "fig.update_traces(textposition='inside', textinfo='percent+label')\n",
    "fig.show()"
   ]
  },
  {
   "cell_type": "code",
   "execution_count": null,
   "id": "f2c355ab",
   "metadata": {},
   "outputs": [],
   "source": [
    "#2018 Kidnapping and Abduction: Child Victims (Uttar Pradesh)\n",
    "\n",
    "child=data.loc[data['State/UT']=='Uttar Pradesh']\n",
    "childup=child[(child['Year']==2018)]\n",
    "ax = childup[['Below_6','Between_6-12','Between_12-16','Between_16-18']].plot(kind='bar',legend=True, title = '2018 Kidnapping and Abduction: Child Victims (Uttar Pradesh)')\n",
    "ax.set_ylabel(\"No of Child Victims\", fontsize=12)\n",
    "ax.set_xticklabels([])"
   ]
  },
  {
   "cell_type": "code",
   "execution_count": null,
   "id": "b81e71ba",
   "metadata": {},
   "outputs": [],
   "source": [
    "#2018 Kidnapping and Abduction: Adult Victims (Uttar Pradesh)\n",
    "\n",
    "adult=data.loc[data['State/UT']=='Uttar Pradesh']\n",
    "adultup=adult[(adult['Year']==2018)]\n",
    "ax = adultup[['Between_18-30','Between_30-60','Above_60']].plot(kind='bar',legend=True, title = '2018 Kidnapping and Abduction: Adult Victims (Uttar Pradesh)')\n",
    "ax.set_ylabel(\"No of Adult Victims\", fontsize=12)\n",
    "ax.set_xticklabels([])"
   ]
  },
  {
   "cell_type": "code",
   "execution_count": null,
   "id": "2ee8753a",
   "metadata": {},
   "outputs": [],
   "source": [
    "#2018 Kidnapping and Abduction Victims (Uttar Pradesh)\n",
    "\n",
    "vict=data.loc[data['State/UT']=='Uttar Pradesh']\n",
    "victup=vict[(vict['Year']==2018)]\n",
    "ax = victup[['Below_6','Between_6-12','Between_12-16','Between_16-18','Between_18-30','Between_30-60','Above_60']].plot(kind='bar',legend=True, title = '2018 Kidnapping and Abduction Victims (Uttar Pradesh)')\n",
    "ax.set_ylabel(\"No of Victims\", fontsize=12)\n",
    "ax.set_xticklabels([])"
   ]
  },
  {
   "cell_type": "code",
   "execution_count": null,
   "id": "68ba9a05",
   "metadata": {},
   "outputs": [],
   "source": [
    "#2018: Child Victims vs Adult Victims (Uttar Pradesh)\n",
    "\n",
    "labels = ['Child Victims','Adult Victims']\n",
    "values = [29565,45379]\n",
    "fig = go.Figure(data=[go.Pie(labels=labels, values=values, hole=.6)])\n",
    "fig.show()"
   ]
  },
  {
   "cell_type": "code",
   "execution_count": null,
   "id": "80e9e4b6",
   "metadata": {},
   "outputs": [],
   "source": [
    "#2016 Kidnapping and Abduction: Child Victims (Delhi)\n",
    "\n",
    "child=data.loc[data['State/UT']=='Delhi']\n",
    "childdl=child[(child['Year']==2016)]\n",
    "ax = childdl[['Below_6','Between_6-12','Between_12-16','Between_16-18']].plot(kind='bar',legend=True, title = '2016 Kidnapping and Abduction: Child Victims (Delhi)')\n",
    "ax.set_ylabel(\"No of Child Victims\", fontsize=12)\n",
    "ax.set_xticklabels([])"
   ]
  },
  {
   "cell_type": "code",
   "execution_count": null,
   "id": "4bfa45d0",
   "metadata": {},
   "outputs": [],
   "source": [
    "#2016 Kidnapping and Abduction: Adult Victims (Delhi)\n",
    "\n",
    "adult=data.loc[data['State/UT']=='Delhi']\n",
    "adultdl=adult[(adult['Year']==2016)]\n",
    "ax = adultdl[['Between_18-30','Between_30-60','Above_60']].plot(kind='bar',legend=True, title = '2016 Kidnapping and Abduction: Adult Victims (Delhi)')\n",
    "ax.set_ylabel(\"No of Adult Victims\", fontsize=12)\n",
    "ax.set_xticklabels([])"
   ]
  },
  {
   "cell_type": "code",
   "execution_count": null,
   "id": "98e4ffe4",
   "metadata": {},
   "outputs": [],
   "source": [
    "#2016 Kidnapping and Abduction Victims (Delhi)\n",
    "\n",
    "vict=data.loc[data['State/UT']=='Delhi']\n",
    "victdl=vict[(vict['Year']==2016)]\n",
    "ax = victdl[['Below_6','Between_6-12','Between_12-16','Between_16-18','Between_18-30','Between_30-60','Above_60']].plot(kind='bar',legend=True, title = '2016 Kidnapping and Abduction Victims (Delhi)')\n",
    "ax.set_ylabel(\"No of Victims\", fontsize=12)\n",
    "ax.set_xticklabels([])"
   ]
  },
  {
   "cell_type": "code",
   "execution_count": null,
   "id": "3eb63fc7",
   "metadata": {},
   "outputs": [],
   "source": [
    "#2016: Child Victims vs Adult Victims (Delhi)\n",
    "\n",
    "labels = ['Child Victims','Adult Victims']\n",
    "values = [16324,5392]\n",
    "fig = go.Figure(data=[go.Pie(labels=labels, values=values, hole=.6)])\n",
    "fig.show()"
   ]
  },
  {
   "cell_type": "code",
   "execution_count": null,
   "id": "7d4936ae",
   "metadata": {},
   "outputs": [],
   "source": [
    "#Data Frame\n",
    "\n",
    "df=data.iloc[:217,1:42]"
   ]
  },
  {
   "cell_type": "code",
   "execution_count": null,
   "id": "76f0493e",
   "metadata": {},
   "outputs": [],
   "source": [
    "#Uttar Pradesh vs Delhi\n",
    "\n",
    "plt.figure(figsize=(7,5))\n",
    "plt.title('Uttar Pradesh vs Delhi')\n",
    "sns.lineplot(data=df['Between_18-30'], label='Uttar Pradesh')\n",
    "sns.lineplot(data=df['Between_16-18'], label='Delhi')\n",
    "plt.xlabel('SL')\n",
    "plt.ylabel('Number of crimes')"
   ]
  },
  {
   "cell_type": "code",
   "execution_count": null,
   "id": "b596b3fd",
   "metadata": {},
   "outputs": [],
   "source": [
    "#Gender wise Kidnapping and Abduction of Child Victims\n",
    "\n",
    "age = ['Below_6','Between_6-12','Between_12-16','Between_16-18']\n",
    "\n",
    "fig = go.Figure()\n",
    "fig.add_trace(go.Bar(\n",
    "    x=age,\n",
    "    y=[3514,13503,43529,44407],\n",
    "    name='Male',\n",
    "    marker_color='lightsalmon'\n",
    "))\n",
    "fig.add_trace(go.Bar(\n",
    "    x=age,\n",
    "    y=[4599,19873,112918,168674],\n",
    "    name='Female',\n",
    "    marker_color='indianred'\n",
    "))\n",
    "\n",
    "fig.update_layout(title_text='Gender wise Kidnapping and Abduction of Child Victims',barmode='group', xaxis_tickangle=-45)\n",
    "fig.show()"
   ]
  },
  {
   "cell_type": "code",
   "execution_count": null,
   "id": "8c463174",
   "metadata": {},
   "outputs": [],
   "source": [
    "#Gender wise Kidnapping and Abduction of Adult Victims\n",
    "\n",
    "age = ['Between_18-30','Between_30-60','Above_60']\n",
    "\n",
    "fig = go.Figure()\n",
    "fig.add_trace(go.Bar(\n",
    "    x=age,\n",
    "    y=[44952,19959,718],\n",
    "    name='Male',\n",
    "    marker_color='lightsalmon'\n",
    "))\n",
    "fig.add_trace(go.Bar(\n",
    "    x=age,\n",
    "    y=[141734,43681,1193],\n",
    "    name='Female',\n",
    "    marker_color='indianred'\n",
    "))\n",
    "\n",
    "fig.update_layout(title_text='Gender wise Kidnapping and Abduction of Adult Victims',barmode='group', xaxis_tickangle=-45)\n",
    "fig.show()"
   ]
  },
  {
   "cell_type": "code",
   "execution_count": null,
   "id": "89c211b4",
   "metadata": {},
   "outputs": [],
   "source": [
    "#Gender wise Kidnapping and Abduction of Victims\n",
    "\n",
    "age = ['Below_6','Between_6-12','Between_12-16','Between_16-18','Between_18-30','Between_30-60','Above_60']\n",
    "\n",
    "fig = go.Figure()\n",
    "fig.add_trace(go.Bar(\n",
    "    x=age,\n",
    "    y=[3514,13503,43529,44407,44952,19959,718],\n",
    "    name='Male',\n",
    "    marker_color='lightsalmon'\n",
    "))\n",
    "fig.add_trace(go.Bar(\n",
    "    x=age,\n",
    "    y=[4599,19873,112918,168674,141734,43681,1193],\n",
    "    name='Female',\n",
    "    marker_color='indianred'\n",
    "))\n",
    "\n",
    "fig.update_layout(title_text='Gender wise Kidnapping and Abduction of Victims',barmode='group', xaxis_tickangle=-45)\n",
    "fig.show()"
   ]
  },
  {
   "cell_type": "code",
   "execution_count": null,
   "id": "502bb84e",
   "metadata": {},
   "outputs": [],
   "source": [
    "#Male Victims vs Female Victims\n",
    "\n",
    "labels = ['Male Victims','Female Victims']\n",
    "values = [170582,492672]\n",
    "fig = go.Figure(data=[go.Pie(labels=labels, values=values, hole=.6)])\n",
    "fig.show()"
   ]
  },
  {
   "cell_type": "code",
   "execution_count": null,
   "id": "7fb6ce11",
   "metadata": {},
   "outputs": [],
   "source": [
    "#Kidnapping and Abduction: Female Victims\n",
    "\n",
    "data.groupby(\"Year\")[['Female_below_6','Female_6-12','Female_12-16','Female_16-18','Female_18-30','Female_30-60','Female_above_60']].max().plot(title='Female victims',kind='bar',figsize=(10,10))"
   ]
  },
  {
   "cell_type": "code",
   "execution_count": null,
   "id": "04131c28",
   "metadata": {},
   "outputs": [],
   "source": [
    "#Recovery Analysis\n",
    "\n",
    "g=sns.FacetGrid(col='Year',data=df,col_wrap=3)\n",
    "g.map(plt.scatter,\"KD_Total_Cases\",\"Total_Recovered\",color=\"purple\")\n",
    "g.map(plt.scatter,\"KD_Total_Cases\",\"Total_Unrecovered\",color=\"orange\")\n",
    "g.set_xticklabels(rotation=90)\n",
    "plt.tight_layout()\n",
    "plt.ylabel(\"Recovery Analysis\")"
   ]
  },
  {
   "cell_type": "code",
   "execution_count": null,
   "id": "ed49b174",
   "metadata": {},
   "outputs": [],
   "source": [
    "#Recovered Victims\n",
    "\n",
    "data.groupby(\"State/UT\")[['Total_Recovered']].max().plot(title='Recovered Victims',kind='barh',figsize=(10,10),color='purple')"
   ]
  },
  {
   "cell_type": "code",
   "execution_count": null,
   "id": "de56640c",
   "metadata": {},
   "outputs": [],
   "source": [
    "#Gender wise Recovered Victims\n",
    "\n",
    "sns.kdeplot(data=df['Male_Recovered'],label='Recovered Male', shade=True)\n",
    "sns.kdeplot(data=df['Female_Recovered'],label='Recovered Female', shade=True)\n",
    "plt.title('Gender wise Recovered Victims')\n",
    "plt.legend()"
   ]
  },
  {
   "cell_type": "code",
   "execution_count": null,
   "id": "d8086f0a",
   "metadata": {},
   "outputs": [],
   "source": [
    "#Unrecovered Victims\n",
    "\n",
    "data.groupby(\"State/UT\")[['Total_Unrecovered']].max().plot(title='Unrecovered Victims',kind='barh',figsize=(10,10),color='orange')"
   ]
  },
  {
   "cell_type": "code",
   "execution_count": null,
   "id": "ef74f8c9",
   "metadata": {},
   "outputs": [],
   "source": [
    "#Gender wise Unrecovered Victims\n",
    "\n",
    "sns.kdeplot(data=df['Male_Unrecovered'],label='Unrecovered Male', shade=True)\n",
    "sns.kdeplot(data=df['Female_Unrecovered'],label='Unrecovered Female', shade=True)\n",
    "plt.title('Gender wise Unrecovered Victims')\n",
    "plt.legend()"
   ]
  },
  {
   "cell_type": "code",
   "execution_count": null,
   "id": "c3a518be",
   "metadata": {},
   "outputs": [],
   "source": [
    "#Correlation Matrix\n",
    "\n",
    "fig=plt.gcf()\n",
    "fig.set_size_inches(25,25)\n",
    "fig=sns.heatmap(data.corr(),annot=True,linewidths=1,linecolor='k',square=True,mask=False, vmin=-1, vmax=1,cbar_kws={\"orientation\": \"vertical\"},cbar=True)"
   ]
  },
  {
   "cell_type": "code",
   "execution_count": null,
   "id": "3a1708da",
   "metadata": {},
   "outputs": [],
   "source": [
    "#Define the models\n",
    "\n",
    "models = [\n",
    "    LinearRegression(),\n",
    "    KNeighborsRegressor(),\n",
    "    DecisionTreeRegressor(),\n",
    "    RandomForestRegressor(),\n",
    "    GradientBoostingRegressor()\n",
    "]"
   ]
  },
  {
   "cell_type": "code",
   "execution_count": null,
   "id": "28b1373c",
   "metadata": {},
   "outputs": [],
   "source": [
    "#Lists of metrics\n",
    "\n",
    "train_t=[]\n",
    "predict_t=[]\n",
    "mse=[]\n",
    "mae=[]\n",
    "r2=[]"
   ]
  },
  {
   "cell_type": "code",
   "execution_count": null,
   "id": "9af18ded",
   "metadata": {},
   "outputs": [],
   "source": [
    "#Model Evaluation\n",
    "\n",
    "for model in models:\n",
    "    start = time()\n",
    "    model.fit(X_train, y_train)\n",
    "    train_time = time() - start\n",
    "    train_t.append(train_time)\n",
    "    y_pred = model.predict(X_test)\n",
    "    start = time()\n",
    "    y_pred = model.predict(X_test)\n",
    "    predict_time = time()-start   \n",
    "    predict_t.append(predict_time) \n",
    "    print(model)\n",
    "    print(\"\\tTraining time: %0.3fs\" % train_time)\n",
    "    print(\"\\tPrediction time: %0.3fs\" % predict_time)\n",
    "    print(\"\\tMean squared error:\", mean_squared_error(y_test, y_pred))\n",
    "    mse.append(mean_squared_error(y_test, y_pred))\n",
    "    print(\"\\tRoot Mean Squared Error: \",sqrt(mean_squared_error(y_test, y_pred)))\n",
    "    print(\"\\tMean absolute error:\", mean_absolute_error(y_test, y_pred))\n",
    "    mae.append(mean_absolute_error(y_test, y_pred))\n",
    "    print(\"\\tR2 score:\", r2_score(y_test, y_pred))\n",
    "    r2.append(r2_score(y_test, y_pred))\n",
    "    print(\"\")"
   ]
  },
  {
   "cell_type": "code",
   "execution_count": null,
   "id": "a51fc15e",
   "metadata": {},
   "outputs": [],
   "source": [
    "#Feature Extraction\n",
    "\n",
    "rf = RandomForestRegressor(n_estimators=150)\n",
    "rf.fit(X_train,y_train)"
   ]
  },
  {
   "cell_type": "code",
   "execution_count": null,
   "id": "e42a5b2c",
   "metadata": {},
   "outputs": [],
   "source": [
    "#Table of features\n",
    "\n",
    "table= pd.DataFrame({'Importance':np.round(rf.feature_importances_,decimals=3)},index=X_train.columns).sort_values(by='Importance',ascending=False).head(10)\n",
    "table"
   ]
  },
  {
   "cell_type": "code",
   "execution_count": null,
   "id": "8b056ef1",
   "metadata": {},
   "outputs": [],
   "source": [
    "#Set X and y\n",
    "\n",
    "X = data[['Female_Kidnapped_and_Abducted','Total_Recovered','Between_18-30','Total_Adult_Victims','Mid_Year_Projection','Female_Adult_Victims','Female_18-30','Female_Recovered','Female_16-18','Female_30-60']].values\n",
    "y = data['KD_Total_Cases'].values"
   ]
  },
  {
   "cell_type": "code",
   "execution_count": null,
   "id": "d31d40e8",
   "metadata": {},
   "outputs": [],
   "source": [
    "#Split the data set into training and testing data sets\n",
    "\n",
    "X_train, X_test, y_train, y_test = train_test_split(X,y, test_size=0.3, random_state=1)"
   ]
  },
  {
   "cell_type": "code",
   "execution_count": null,
   "id": "341f9ac8",
   "metadata": {},
   "outputs": [],
   "source": [
    "#Linear Regression\n",
    "\n",
    "regressor = LinearRegression()\n",
    "regressor.fit(X_train, y_train)"
   ]
  },
  {
   "cell_type": "code",
   "execution_count": null,
   "id": "7db9d51a",
   "metadata": {},
   "outputs": [],
   "source": [
    "#Coefficient\n",
    "\n",
    "print(regressor.coef_)"
   ]
  },
  {
   "cell_type": "code",
   "execution_count": null,
   "id": "b73e0b79",
   "metadata": {},
   "outputs": [],
   "source": [
    "#Intercept\n",
    "\n",
    "print(regressor.intercept_)"
   ]
  },
  {
   "cell_type": "code",
   "execution_count": null,
   "id": "ef0b8139",
   "metadata": {},
   "outputs": [],
   "source": [
    "#Test predicted\n",
    "\n",
    "predicted = regressor.predict(X_test)\n",
    "print(predicted)"
   ]
  },
  {
   "cell_type": "code",
   "execution_count": null,
   "id": "cc38669c",
   "metadata": {},
   "outputs": [],
   "source": [
    "#Display prediction\n",
    "\n",
    "data1 = pd.DataFrame({'Actual': y_test.flatten(), 'Predicted' : predicted.flatten()})"
   ]
  },
  {
   "cell_type": "code",
   "execution_count": null,
   "id": "73eb2f77",
   "metadata": {},
   "outputs": [],
   "source": [
    "#First 20 predictions\n",
    "\n",
    "data1.head(20)"
   ]
  },
  {
   "cell_type": "code",
   "execution_count": null,
   "id": "dd2168ab",
   "metadata": {},
   "outputs": [],
   "source": [
    "#Pedicted metrics\n",
    "\n",
    "print('Mean Absolute Error:', metrics.mean_absolute_error(y_test,predicted))\n",
    "print('Mean Squared Error:', metrics.mean_squared_error(y_test,predicted))\n",
    "print('Root Mean Squared Error:', math.sqrt(metrics.mean_squared_error(y_test,predicted)))"
   ]
  },
  {
   "cell_type": "code",
   "execution_count": null,
   "id": "59798550",
   "metadata": {},
   "outputs": [],
   "source": [
    "#Plotting prediction\n",
    "\n",
    "graph = data1.head(20)\n",
    "graph.plot(kind='bar')"
   ]
  }
 ],
 "metadata": {
  "kernelspec": {
   "display_name": "Python 3 (ipykernel)",
   "language": "python",
   "name": "python3"
  },
  "language_info": {
   "codemirror_mode": {
    "name": "ipython",
    "version": 3
   },
   "file_extension": ".py",
   "mimetype": "text/x-python",
   "name": "python",
   "nbconvert_exporter": "python",
   "pygments_lexer": "ipython3",
   "version": "3.9.7"
  }
 },
 "nbformat": 4,
 "nbformat_minor": 5
}
